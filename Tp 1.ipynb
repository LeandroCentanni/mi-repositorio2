{
 "cells": [
  {
   "cell_type": "code",
   "execution_count": 2,
   "id": "755a1522",
   "metadata": {
    "scrolled": true
   },
   "outputs": [
    {
     "name": "stdout",
     "output_type": "stream",
     "text": [
      "Ingresa un número entero: 5\n",
      "1 no es divisible por 3 ni por 5.\n",
      "2 no es divisible por 3 ni por 5.\n",
      "3 es divisible solo por 3.\n",
      "4 no es divisible por 3 ni por 5.\n",
      "5 es divisible solo por 5.\n"
     ]
    }
   ],
   "source": [
    "numero = int(input(\"Ingresa un número entero: \"))\n",
    "\n",
    "for i in range(1, numero + 1):\n",
    "    if i % 3 == 0 and i % 5 == 0:\n",
    "        print(f\"{i} es divisible por 3 y 5.\")\n",
    "    elif i % 3 == 0:\n",
    "        print(f\"{i} es divisible solo por 3.\")\n",
    "    elif i % 5 == 0:\n",
    "        print(f\"{i} es divisible solo por 5.\")\n",
    "    else:\n",
    "        print(f\"{i} no es divisible por 3 ni por 5.\")"
   ]
  },
  {
   "cell_type": "code",
   "execution_count": 3,
   "id": "d7bae6c9",
   "metadata": {},
   "outputs": [
    {
     "name": "stdout",
     "output_type": "stream",
     "text": [
      "Ingresa un número entero: 4\n",
      "El factorial de 4 es: 24\n"
     ]
    }
   ],
   "source": [
    "numero = int(input(\"Ingresa un número entero: \"))\n",
    "\n",
    "factorial = 1\n",
    "i = 1\n",
    "\n",
    "while i <= numero:\n",
    "    factorial *= i\n",
    "    i += 1\n",
    "\n",
    "print(f\"El factorial de {numero} es: {factorial}\")"
   ]
  },
  {
   "cell_type": "code",
   "execution_count": null,
   "id": "58da762e",
   "metadata": {},
   "outputs": [],
   "source": []
  },
  {
   "cell_type": "code",
   "execution_count": null,
   "id": "e4d67888",
   "metadata": {},
   "outputs": [],
   "source": []
  }
 ],
 "metadata": {
  "kernelspec": {
   "display_name": "Python 3 (ipykernel)",
   "language": "python",
   "name": "python3"
  },
  "language_info": {
   "codemirror_mode": {
    "name": "ipython",
    "version": 3
   },
   "file_extension": ".py",
   "mimetype": "text/x-python",
   "name": "python",
   "nbconvert_exporter": "python",
   "pygments_lexer": "ipython3",
   "version": "3.10.9"
  }
 },
 "nbformat": 4,
 "nbformat_minor": 5
}
